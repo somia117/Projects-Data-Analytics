{
 "cells": [
  {
   "cell_type": "code",
   "execution_count": 38,
   "id": "2ceb1718",
   "metadata": {},
   "outputs": [
    {
     "data": {
      "text/plain": [
       "[]"
      ]
     },
     "execution_count": 38,
     "metadata": {},
     "output_type": "execute_result"
    }
   ],
   "source": [
    "fruits = ['Apple','Banana','Cherry']\n",
    "fruits\n",
    "fruits.append('orange')\n",
    "fruits\n",
    "fruits.sort()\n",
    "fruits\n",
    "fruits.insert(2,'Pineapple')\n",
    "fruits\n",
    "fruits.pop(2)\n",
    "fruits\n",
    "if 'Cherry' in fruits:\n",
    "    fruits.remove('Cherry')\n",
    "fruits\n",
    "fruits.reverse()\n",
    "fruits\n",
    "fruits.index('Banana')\n",
    "fruits.count('Banana')\n",
    "fruits.append(\"orange\")\n",
    "fruits.count(\"orange\")\n",
    "fruits.index('orange')\n",
    "fruits.extend('strawberry')\n",
    "fruits.copy()\n",
    "fruits.clear()\n",
    "fruits"
   ]
  },
  {
   "cell_type": "code",
   "execution_count": null,
   "id": "8ab65733",
   "metadata": {},
   "outputs": [],
   "source": []
  },
  {
   "cell_type": "code",
   "execution_count": null,
   "id": "2cfd675e",
   "metadata": {},
   "outputs": [],
   "source": []
  }
 ],
 "metadata": {
  "kernelspec": {
   "display_name": "Python 3 (ipykernel)",
   "language": "python",
   "name": "python3"
  },
  "language_info": {
   "codemirror_mode": {
    "name": "ipython",
    "version": 3
   },
   "file_extension": ".py",
   "mimetype": "text/x-python",
   "name": "python",
   "nbconvert_exporter": "python",
   "pygments_lexer": "ipython3",
   "version": "3.11.5"
  }
 },
 "nbformat": 4,
 "nbformat_minor": 5
}
